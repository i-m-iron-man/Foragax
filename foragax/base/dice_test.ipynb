{
 "cells": [
  {
   "cell_type": "code",
   "execution_count": 1,
   "metadata": {},
   "outputs": [],
   "source": [
    "from agent_classe import *\n",
    "from agent_method import *\n",
    "import jax.numpy as jnp\n",
    "import jax"
   ]
  },
  {
   "cell_type": "code",
   "execution_count": 2,
   "metadata": {},
   "outputs": [],
   "source": [
    "@struct.dataclass\n",
    "class Dice(Agent):\n",
    "    @staticmethod\n",
    "    def create_agent(params: Params, unique_id: int, active_state: int, agent_type: int, key:jax.random.PRNGKey):\n",
    "        key, subkey = jax.random.split(key)\n",
    "        \n",
    "        def create_active_agent(key):\n",
    "            draw = jax.random.randint(key, (1,), 1, 7)\n",
    "            state_content = {'draw': draw, 'key': key, 'input_value': 0}\n",
    "            return State(content=state_content)\n",
    "        \n",
    "        def create_inactive_agent(key):\n",
    "            state_content = {'draw': jnp.array([0]), 'key': key, 'input_value': 0}\n",
    "            return State(content=state_content)\n",
    "        agent_state = jax.lax.cond(active_state, lambda _: create_active_agent(subkey), lambda _: create_inactive_agent(subkey), None)\n",
    "        \n",
    "        return Dice(params = params, unique_id = unique_id, agent_type = agent_type, \n",
    "                    active_state = active_state, state = agent_state, policy = None, age = 0.0)\n",
    "    \n",
    "    @staticmethod\n",
    "    def step_agent(params: Params, input: Signal, dice_agent: Agent, key: jax.random.PRNGKey):\n",
    "        \n",
    "        def step_active_agent(dice_agent):\n",
    "            old_state = dice_agent.state.content\n",
    "            key, subkey = jax.random.split(old_state['key'])\n",
    "            input_value = input.content['value']\n",
    "            input_value = input_value+1\n",
    "            draw = jax.random.randint(subkey, (1,), 1, 7)\n",
    "            state_content = {'draw': draw, 'key': subkey, 'input_value': input_value}\n",
    "            new_state = State(content = state_content)\n",
    "            return dice_agent.replace(state = new_state, age = dice_agent.age + 1.0)\n",
    "        \n",
    "        def step_inactive_agent(dice_agent):\n",
    "            return dice_agent\n",
    "        \n",
    "        new_dice_agent = jax.lax.cond(dice_agent.active_state, lambda _: step_active_agent(dice_agent), lambda _: step_inactive_agent(dice_agent), None)\n",
    "        return new_dice_agent, key\n",
    "    \n",
    "    @staticmethod\n",
    "    def add_agent(params: Params, dice_agents: Agent, idx, key: jax.random.PRNGKey):\n",
    "        inactive_dice_agent = jax.tree_util.tree_map(lambda x:x[idx], dice_agents)\n",
    "        useless_key, subkey = jax.random.split(inactive_dice_agent.state.content['key'])\n",
    "        draw = jax.random.randint(subkey, (1,), 1, 7)\n",
    "        state_content = {'draw': draw, 'key': subkey, 'input_value': jnp.array([0])}\n",
    "        new_state = State(content=state_content)\n",
    "        active_dice_agent = inactive_dice_agent.replace(active_state = True, state = new_state)\n",
    "        return active_dice_agent, key\n",
    "    \n",
    "    @staticmethod\n",
    "    def remove_agent(params: Params, dice_agents:Agent, idx, key: jax.random.PRNGKey):\n",
    "        remove_ids = params.content['remove_ids']\n",
    "        dice_agent_to_remove = jax.tree_util.tree_map(lambda x:x[remove_ids[idx]], dice_agents)\n",
    "        draw = jnp.array([0])\n",
    "        state_content = {'draw': draw, 'key': dice_agent_to_remove.state.content['key'], 'input_value': jnp.array([0])}\n",
    "        state = State(content=state_content)\n",
    "        inactive_dice_agent = dice_agent_to_remove.replace(active_state = False, state = state)\n",
    "        return inactive_dice_agent, key"
   ]
  },
  {
   "cell_type": "code",
   "execution_count": 3,
   "metadata": {},
   "outputs": [
    {
     "name": "stdout",
     "output_type": "stream",
     "text": [
      "AgentSet initialized\n"
     ]
    }
   ],
   "source": [
    "Dice_set = Agent_Set(agent = Dice, num_total_agents = 10, num_active_agents = 5, agent_type = 0)\n",
    "key = jax.random.PRNGKey(0)\n",
    "key, subkey = jax.random.split(key)\n",
    "Dice_set.agents = create_agents(params = None, agent_set = Dice_set, key = subkey)"
   ]
  },
  {
   "cell_type": "code",
   "execution_count": 4,
   "metadata": {},
   "outputs": [
    {
     "name": "stdout",
     "output_type": "stream",
     "text": [
      "[1. 1. 1. 1. 1. 0. 0. 0. 0. 0.]\n"
     ]
    }
   ],
   "source": [
    "print(Dice_set.agents.active_state)"
   ]
  },
  {
   "cell_type": "code",
   "execution_count": 5,
   "metadata": {},
   "outputs": [
    {
     "name": "stdout",
     "output_type": "stream",
     "text": [
      "[0 0 0 0 0 0 0 0 0 0]\n",
      "[1 1 1 1 1 0 0 0 0 0]\n"
     ]
    }
   ],
   "source": [
    "key, *step_keys = jax.random.split(key, 11)\n",
    "\n",
    "step_keys = jnp.array(step_keys)\n",
    "input_content = {'value': jnp.tile(jnp.array([0]), 10)}\n",
    "input_signal = Signal(content = input_content)\n",
    "\n",
    "print(Dice_set.agents.state.content['input_value'])\n",
    "Dice_set.agents, key = step_agents(params = None, input = input_signal, agent_set = Dice_set, key = step_keys)\n",
    "print(Dice_set.agents.state.content['input_value'])\n"
   ]
  },
  {
   "cell_type": "code",
   "execution_count": 6,
   "metadata": {},
   "outputs": [
    {
     "name": "stdout",
     "output_type": "stream",
     "text": [
      "29.9 µs ± 10.3 µs per loop (mean ± std. dev. of 7 runs, 1 loop each)\n"
     ]
    }
   ],
   "source": [
    "%%timeit\n",
    "Dice_set.agents, key = step_agents(params = None, input = input_signal, agent_set = Dice_set, key = step_keys)"
   ]
  },
  {
   "cell_type": "code",
   "execution_count": 7,
   "metadata": {},
   "outputs": [
    {
     "ename": "ValueError",
     "evalue": "safe_zip() argument 2 is shorter than argument 1",
     "output_type": "error",
     "traceback": [
      "\u001b[0;31m---------------------------------------------------------------------------\u001b[0m",
      "\u001b[0;31mValueError\u001b[0m                                Traceback (most recent call last)",
      "Cell \u001b[0;32mIn[7], line 7\u001b[0m\n\u001b[1;32m      5\u001b[0m dice_remove_params_content \u001b[38;5;241m=\u001b[39m {\u001b[38;5;124m'\u001b[39m\u001b[38;5;124mremove_ids\u001b[39m\u001b[38;5;124m'\u001b[39m: remove_indices}\n\u001b[1;32m      6\u001b[0m dice_remove_params \u001b[38;5;241m=\u001b[39m Params(content \u001b[38;5;241m=\u001b[39m dice_remove_params_content)\n\u001b[0;32m----> 7\u001b[0m Dice_set\u001b[38;5;241m.\u001b[39magents, key \u001b[38;5;241m=\u001b[39m \u001b[43mjit_remove_agents\u001b[49m\u001b[43m(\u001b[49m\u001b[43mremove_func\u001b[49m\u001b[43m \u001b[49m\u001b[38;5;241;43m=\u001b[39;49m\u001b[43m \u001b[49m\u001b[43mDice\u001b[49m\u001b[38;5;241;43m.\u001b[39;49m\u001b[43mremove_agent\u001b[49m\u001b[43m,\u001b[49m\u001b[43m \u001b[49m\u001b[43mnum_agents_remove\u001b[49m\u001b[43m \u001b[49m\u001b[38;5;241;43m=\u001b[39;49m\u001b[43m \u001b[49m\u001b[43mnum_agents_dead\u001b[49m\u001b[43m,\u001b[49m\u001b[43m \u001b[49m\n\u001b[1;32m      8\u001b[0m \u001b[43m                                                \u001b[49m\u001b[43mremove_params\u001b[49m\u001b[43m \u001b[49m\u001b[38;5;241;43m=\u001b[39;49m\u001b[43m \u001b[49m\u001b[43mdice_remove_params\u001b[49m\u001b[43m,\u001b[49m\u001b[43m \u001b[49m\u001b[43magents\u001b[49m\u001b[43m \u001b[49m\u001b[38;5;241;43m=\u001b[39;49m\u001b[43m \u001b[49m\u001b[43mDice_set\u001b[49m\u001b[38;5;241;43m.\u001b[39;49m\u001b[43magents\u001b[49m\u001b[43m,\u001b[49m\u001b[43m \u001b[49m\u001b[43mkey\u001b[49m\u001b[43m \u001b[49m\u001b[38;5;241;43m=\u001b[39;49m\u001b[43m \u001b[49m\u001b[43mkey\u001b[49m\u001b[43m)\u001b[49m\n\u001b[1;32m      9\u001b[0m \u001b[38;5;28mprint\u001b[39m(jnp\u001b[38;5;241m.\u001b[39mreshape(Dice_set\u001b[38;5;241m.\u001b[39magents\u001b[38;5;241m.\u001b[39mstate\u001b[38;5;241m.\u001b[39mcontent[\u001b[38;5;124m'\u001b[39m\u001b[38;5;124mdraw\u001b[39m\u001b[38;5;124m'\u001b[39m], (\u001b[38;5;241m-\u001b[39m\u001b[38;5;241m1\u001b[39m)))\n",
      "    \u001b[0;31m[... skipping hidden 12 frame]\u001b[0m\n",
      "File \u001b[0;32m~/Desktop/source/foragax/foragax_github/foragax/base/agent_method.py:46\u001b[0m, in \u001b[0;36mremove_agents\u001b[0;34m(remove_func, num_agents_remove, remove_params, agents, key)\u001b[0m\n\u001b[1;32m     43\u001b[0m     new_agents \u001b[38;5;241m=\u001b[39m jax\u001b[38;5;241m.\u001b[39mtree_util\u001b[38;5;241m.\u001b[39mtree_map(\u001b[38;5;28;01mlambda\u001b[39;00m x,y:x\u001b[38;5;241m.\u001b[39mat[idx]\u001b[38;5;241m.\u001b[39mset(y), agents, new_agent)\n\u001b[1;32m     44\u001b[0m     \u001b[38;5;28;01mreturn\u001b[39;00m new_agents, remove_params, key\n\u001b[0;32m---> 46\u001b[0m new_agents, remove_params, key \u001b[38;5;241m=\u001b[39m \u001b[43mjax\u001b[49m\u001b[38;5;241;43m.\u001b[39;49m\u001b[43mlax\u001b[49m\u001b[38;5;241;43m.\u001b[39;49m\u001b[43mfori_loop\u001b[49m\u001b[43m(\u001b[49m\u001b[38;5;241;43m0\u001b[39;49m\u001b[43m,\u001b[49m\u001b[43m \u001b[49m\u001b[43mnum_agents_remove\u001b[49m\u001b[43m,\u001b[49m\u001b[43m \u001b[49m\u001b[43mremove_data\u001b[49m\u001b[43m,\u001b[49m\u001b[43m \u001b[49m\u001b[43m(\u001b[49m\u001b[43magents\u001b[49m\u001b[43m,\u001b[49m\u001b[43m \u001b[49m\u001b[43mremove_params\u001b[49m\u001b[43m,\u001b[49m\u001b[43m \u001b[49m\u001b[43mkey\u001b[49m\u001b[43m)\u001b[49m\u001b[43m)\u001b[49m\n\u001b[1;32m     47\u001b[0m \u001b[38;5;28;01mreturn\u001b[39;00m new_agents, key\n",
      "    \u001b[0;31m[... skipping hidden 12 frame]\u001b[0m\n",
      "File \u001b[0;32m~/Desktop/source/foragax/foragax_github/foragax/base/agent_method.py:43\u001b[0m, in \u001b[0;36mremove_agents.<locals>.remove_data\u001b[0;34m(idx, agents__remove_params__key)\u001b[0m\n\u001b[1;32m     41\u001b[0m agents, remove_params, key \u001b[38;5;241m=\u001b[39m agents__remove_params__key\n\u001b[1;32m     42\u001b[0m new_agent, key \u001b[38;5;241m=\u001b[39m jax\u001b[38;5;241m.\u001b[39mjit(remove_func)(remove_params, agents, idx, key)\n\u001b[0;32m---> 43\u001b[0m new_agents \u001b[38;5;241m=\u001b[39m \u001b[43mjax\u001b[49m\u001b[38;5;241;43m.\u001b[39;49m\u001b[43mtree_util\u001b[49m\u001b[38;5;241;43m.\u001b[39;49m\u001b[43mtree_map\u001b[49m\u001b[43m(\u001b[49m\u001b[38;5;28;43;01mlambda\u001b[39;49;00m\u001b[43m \u001b[49m\u001b[43mx\u001b[49m\u001b[43m,\u001b[49m\u001b[43my\u001b[49m\u001b[43m:\u001b[49m\u001b[43mx\u001b[49m\u001b[38;5;241;43m.\u001b[39;49m\u001b[43mat\u001b[49m\u001b[43m[\u001b[49m\u001b[43midx\u001b[49m\u001b[43m]\u001b[49m\u001b[38;5;241;43m.\u001b[39;49m\u001b[43mset\u001b[49m\u001b[43m(\u001b[49m\u001b[43my\u001b[49m\u001b[43m)\u001b[49m\u001b[43m,\u001b[49m\u001b[43m \u001b[49m\u001b[43magents\u001b[49m\u001b[43m,\u001b[49m\u001b[43m \u001b[49m\u001b[43mnew_agent\u001b[49m\u001b[43m)\u001b[49m\n\u001b[1;32m     44\u001b[0m \u001b[38;5;28;01mreturn\u001b[39;00m new_agents, remove_params, key\n",
      "    \u001b[0;31m[... skipping hidden 2 frame]\u001b[0m\n",
      "File \u001b[0;32m~/Desktop/source/foragax/foragax_github/foragax/base/agent_method.py:43\u001b[0m, in \u001b[0;36mremove_agents.<locals>.remove_data.<locals>.<lambda>\u001b[0;34m(x, y)\u001b[0m\n\u001b[1;32m     41\u001b[0m agents, remove_params, key \u001b[38;5;241m=\u001b[39m agents__remove_params__key\n\u001b[1;32m     42\u001b[0m new_agent, key \u001b[38;5;241m=\u001b[39m jax\u001b[38;5;241m.\u001b[39mjit(remove_func)(remove_params, agents, idx, key)\n\u001b[0;32m---> 43\u001b[0m new_agents \u001b[38;5;241m=\u001b[39m jax\u001b[38;5;241m.\u001b[39mtree_util\u001b[38;5;241m.\u001b[39mtree_map(\u001b[38;5;28;01mlambda\u001b[39;00m x,y:\u001b[43mx\u001b[49m\u001b[38;5;241;43m.\u001b[39;49m\u001b[43mat\u001b[49m\u001b[43m[\u001b[49m\u001b[43midx\u001b[49m\u001b[43m]\u001b[49m\u001b[38;5;241;43m.\u001b[39;49m\u001b[43mset\u001b[49m\u001b[43m(\u001b[49m\u001b[43my\u001b[49m\u001b[43m)\u001b[49m, agents, new_agent)\n\u001b[1;32m     44\u001b[0m \u001b[38;5;28;01mreturn\u001b[39;00m new_agents, remove_params, key\n",
      "File \u001b[0;32m/Library/Frameworks/Python.framework/Versions/3.10/lib/python3.10/site-packages/jax/_src/numpy/array_methods.py:485\u001b[0m, in \u001b[0;36mallow_pass_by_position_with_warning.<locals>.wrapped\u001b[0;34m(*args, **kwargs)\u001b[0m\n\u001b[1;32m    483\u001b[0m   \u001b[38;5;28;01mreturn\u001b[39;00m f(\u001b[38;5;241m*\u001b[39margs[:n_positional], \u001b[38;5;241m*\u001b[39m\u001b[38;5;241m*\u001b[39mconverted_kwargs, \u001b[38;5;241m*\u001b[39m\u001b[38;5;241m*\u001b[39mkwargs)\n\u001b[1;32m    484\u001b[0m \u001b[38;5;28;01melse\u001b[39;00m:\n\u001b[0;32m--> 485\u001b[0m   \u001b[38;5;28;01mreturn\u001b[39;00m \u001b[43mf\u001b[49m\u001b[43m(\u001b[49m\u001b[38;5;241;43m*\u001b[39;49m\u001b[43margs\u001b[49m\u001b[43m,\u001b[49m\u001b[43m \u001b[49m\u001b[38;5;241;43m*\u001b[39;49m\u001b[38;5;241;43m*\u001b[39;49m\u001b[43mkwargs\u001b[49m\u001b[43m)\u001b[49m\n",
      "File \u001b[0;32m/Library/Frameworks/Python.framework/Versions/3.10/lib/python3.10/site-packages/jax/_src/numpy/array_methods.py:532\u001b[0m, in \u001b[0;36m_IndexUpdateRef.set\u001b[0;34m(self, values, indices_are_sorted, unique_indices, mode)\u001b[0m\n\u001b[1;32m    522\u001b[0m \u001b[38;5;129m@allow_pass_by_position_with_warning\u001b[39m\n\u001b[1;32m    523\u001b[0m \u001b[38;5;28;01mdef\u001b[39;00m \u001b[38;5;21mset\u001b[39m(\u001b[38;5;28mself\u001b[39m, values, \u001b[38;5;241m*\u001b[39m, indices_are_sorted\u001b[38;5;241m=\u001b[39m\u001b[38;5;28;01mFalse\u001b[39;00m, unique_indices\u001b[38;5;241m=\u001b[39m\u001b[38;5;28;01mFalse\u001b[39;00m,\n\u001b[1;32m    524\u001b[0m         mode\u001b[38;5;241m=\u001b[39m\u001b[38;5;28;01mNone\u001b[39;00m):\n\u001b[1;32m    525\u001b[0m \u001b[38;5;250m  \u001b[39m\u001b[38;5;124;03m\"\"\"Pure equivalent of ``x[idx] = y``.\u001b[39;00m\n\u001b[1;32m    526\u001b[0m \n\u001b[1;32m    527\u001b[0m \u001b[38;5;124;03m  Returns the value of ``x`` that would result from the NumPy-style\u001b[39;00m\n\u001b[0;32m   (...)\u001b[0m\n\u001b[1;32m    530\u001b[0m \u001b[38;5;124;03m  See :mod:`jax.ops` for details.\u001b[39;00m\n\u001b[1;32m    531\u001b[0m \u001b[38;5;124;03m  \"\"\"\u001b[39;00m\n\u001b[0;32m--> 532\u001b[0m   \u001b[38;5;28;01mreturn\u001b[39;00m \u001b[43mscatter\u001b[49m\u001b[38;5;241;43m.\u001b[39;49m\u001b[43m_scatter_update\u001b[49m\u001b[43m(\u001b[49m\u001b[38;5;28;43mself\u001b[39;49m\u001b[38;5;241;43m.\u001b[39;49m\u001b[43marray\u001b[49m\u001b[43m,\u001b[49m\u001b[43m \u001b[49m\u001b[38;5;28;43mself\u001b[39;49m\u001b[38;5;241;43m.\u001b[39;49m\u001b[43mindex\u001b[49m\u001b[43m,\u001b[49m\u001b[43m \u001b[49m\u001b[43mvalues\u001b[49m\u001b[43m,\u001b[49m\u001b[43m \u001b[49m\u001b[43mlax\u001b[49m\u001b[38;5;241;43m.\u001b[39;49m\u001b[43mscatter\u001b[49m\u001b[43m,\u001b[49m\n\u001b[1;32m    533\u001b[0m \u001b[43m                                 \u001b[49m\u001b[43mindices_are_sorted\u001b[49m\u001b[38;5;241;43m=\u001b[39;49m\u001b[43mindices_are_sorted\u001b[49m\u001b[43m,\u001b[49m\n\u001b[1;32m    534\u001b[0m \u001b[43m                                 \u001b[49m\u001b[43munique_indices\u001b[49m\u001b[38;5;241;43m=\u001b[39;49m\u001b[43munique_indices\u001b[49m\u001b[43m,\u001b[49m\u001b[43m \u001b[49m\u001b[43mmode\u001b[49m\u001b[38;5;241;43m=\u001b[39;49m\u001b[43mmode\u001b[49m\u001b[43m)\u001b[49m\n",
      "File \u001b[0;32m/Library/Frameworks/Python.framework/Versions/3.10/lib/python3.10/site-packages/jax/_src/ops/scatter.py:76\u001b[0m, in \u001b[0;36m_scatter_update\u001b[0;34m(x, idx, y, scatter_op, indices_are_sorted, unique_indices, mode, normalize_indices)\u001b[0m\n\u001b[1;32m     73\u001b[0m \u001b[38;5;66;03m# XLA gathers and scatters are very similar in structure; the scatter logic\u001b[39;00m\n\u001b[1;32m     74\u001b[0m \u001b[38;5;66;03m# is more or less a transpose of the gather equivalent.\u001b[39;00m\n\u001b[1;32m     75\u001b[0m treedef, static_idx, dynamic_idx \u001b[38;5;241m=\u001b[39m jnp\u001b[38;5;241m.\u001b[39m_split_index_for_jit(idx, x\u001b[38;5;241m.\u001b[39mshape)\n\u001b[0;32m---> 76\u001b[0m \u001b[38;5;28;01mreturn\u001b[39;00m \u001b[43m_scatter_impl\u001b[49m\u001b[43m(\u001b[49m\u001b[43mx\u001b[49m\u001b[43m,\u001b[49m\u001b[43m \u001b[49m\u001b[43my\u001b[49m\u001b[43m,\u001b[49m\u001b[43m \u001b[49m\u001b[43mscatter_op\u001b[49m\u001b[43m,\u001b[49m\u001b[43m \u001b[49m\u001b[43mtreedef\u001b[49m\u001b[43m,\u001b[49m\u001b[43m \u001b[49m\u001b[43mstatic_idx\u001b[49m\u001b[43m,\u001b[49m\u001b[43m \u001b[49m\u001b[43mdynamic_idx\u001b[49m\u001b[43m,\u001b[49m\n\u001b[1;32m     77\u001b[0m \u001b[43m                     \u001b[49m\u001b[43mindices_are_sorted\u001b[49m\u001b[43m,\u001b[49m\u001b[43m \u001b[49m\u001b[43munique_indices\u001b[49m\u001b[43m,\u001b[49m\u001b[43m \u001b[49m\u001b[43mmode\u001b[49m\u001b[43m,\u001b[49m\n\u001b[1;32m     78\u001b[0m \u001b[43m                     \u001b[49m\u001b[43mnormalize_indices\u001b[49m\u001b[43m)\u001b[49m\n",
      "File \u001b[0;32m/Library/Frameworks/Python.framework/Versions/3.10/lib/python3.10/site-packages/jax/_src/ops/scatter.py:109\u001b[0m, in \u001b[0;36m_scatter_impl\u001b[0;34m(x, y, scatter_op, treedef, static_idx, dynamic_idx, indices_are_sorted, unique_indices, mode, normalize_indices)\u001b[0m\n\u001b[1;32m    106\u001b[0m x, y \u001b[38;5;241m=\u001b[39m promote_dtypes(x, y)\n\u001b[1;32m    108\u001b[0m \u001b[38;5;66;03m# Broadcast `y` to the slice output shape.\u001b[39;00m\n\u001b[0;32m--> 109\u001b[0m y \u001b[38;5;241m=\u001b[39m \u001b[43mjnp\u001b[49m\u001b[38;5;241;43m.\u001b[39;49m\u001b[43mbroadcast_to\u001b[49m\u001b[43m(\u001b[49m\u001b[43my\u001b[49m\u001b[43m,\u001b[49m\u001b[43m \u001b[49m\u001b[38;5;28;43mtuple\u001b[39;49m\u001b[43m(\u001b[49m\u001b[43mindexer\u001b[49m\u001b[38;5;241;43m.\u001b[39;49m\u001b[43mslice_shape\u001b[49m\u001b[43m)\u001b[49m\u001b[43m)\u001b[49m\n\u001b[1;32m    110\u001b[0m \u001b[38;5;66;03m# Collapse any `None`/`jnp.newaxis` dimensions.\u001b[39;00m\n\u001b[1;32m    111\u001b[0m y \u001b[38;5;241m=\u001b[39m jnp\u001b[38;5;241m.\u001b[39msqueeze(y, axis\u001b[38;5;241m=\u001b[39mindexer\u001b[38;5;241m.\u001b[39mnewaxis_dims)\n",
      "File \u001b[0;32m/Library/Frameworks/Python.framework/Versions/3.10/lib/python3.10/site-packages/jax/_src/numpy/lax_numpy.py:1173\u001b[0m, in \u001b[0;36mbroadcast_to\u001b[0;34m(array, shape)\u001b[0m\n\u001b[1;32m   1169\u001b[0m \u001b[38;5;129m@util\u001b[39m\u001b[38;5;241m.\u001b[39m_wraps(np\u001b[38;5;241m.\u001b[39mbroadcast_to, lax_description\u001b[38;5;241m=\u001b[39m\u001b[38;5;124m\"\"\"\u001b[39m\u001b[38;5;130;01m\\\u001b[39;00m\n\u001b[1;32m   1170\u001b[0m \u001b[38;5;124mThe JAX version does not necessarily return a view of the input.\u001b[39m\n\u001b[1;32m   1171\u001b[0m \u001b[38;5;124m\"\"\"\u001b[39m)\n\u001b[1;32m   1172\u001b[0m \u001b[38;5;28;01mdef\u001b[39;00m \u001b[38;5;21mbroadcast_to\u001b[39m(array: ArrayLike, shape: Shape) \u001b[38;5;241m-\u001b[39m\u001b[38;5;241m>\u001b[39m Array:\n\u001b[0;32m-> 1173\u001b[0m   \u001b[38;5;28;01mreturn\u001b[39;00m \u001b[43mutil\u001b[49m\u001b[38;5;241;43m.\u001b[39;49m\u001b[43m_broadcast_to\u001b[49m\u001b[43m(\u001b[49m\u001b[43marray\u001b[49m\u001b[43m,\u001b[49m\u001b[43m \u001b[49m\u001b[43mshape\u001b[49m\u001b[43m)\u001b[49m\n",
      "File \u001b[0;32m/Library/Frameworks/Python.framework/Versions/3.10/lib/python3.10/site-packages/jax/_src/numpy/util.py:398\u001b[0m, in \u001b[0;36m_broadcast_to\u001b[0;34m(arr, shape)\u001b[0m\n\u001b[1;32m    395\u001b[0m nlead \u001b[38;5;241m=\u001b[39m \u001b[38;5;28mlen\u001b[39m(shape) \u001b[38;5;241m-\u001b[39m \u001b[38;5;28mlen\u001b[39m(arr_shape)\n\u001b[1;32m    396\u001b[0m shape_tail \u001b[38;5;241m=\u001b[39m shape[nlead:]\n\u001b[1;32m    397\u001b[0m compatible \u001b[38;5;241m=\u001b[39m \u001b[38;5;28mall\u001b[39m(core\u001b[38;5;241m.\u001b[39msymbolic_equal_one_of_dim(arr_d, [\u001b[38;5;241m1\u001b[39m, shape_d])\n\u001b[0;32m--> 398\u001b[0m                  \u001b[38;5;28;01mfor\u001b[39;00m arr_d, shape_d \u001b[38;5;129;01min\u001b[39;00m \u001b[43msafe_zip\u001b[49m\u001b[43m(\u001b[49m\u001b[43marr_shape\u001b[49m\u001b[43m,\u001b[49m\u001b[43m \u001b[49m\u001b[43mshape_tail\u001b[49m\u001b[43m)\u001b[49m)\n\u001b[1;32m    399\u001b[0m \u001b[38;5;28;01mif\u001b[39;00m nlead \u001b[38;5;241m<\u001b[39m \u001b[38;5;241m0\u001b[39m \u001b[38;5;129;01mor\u001b[39;00m \u001b[38;5;129;01mnot\u001b[39;00m compatible:\n\u001b[1;32m    400\u001b[0m   msg \u001b[38;5;241m=\u001b[39m \u001b[38;5;124m\"\u001b[39m\u001b[38;5;124mIncompatible shapes for broadcasting: \u001b[39m\u001b[38;5;132;01m{}\u001b[39;00m\u001b[38;5;124m and requested shape \u001b[39m\u001b[38;5;132;01m{}\u001b[39;00m\u001b[38;5;124m\"\u001b[39m\n",
      "\u001b[0;31mValueError\u001b[0m: safe_zip() argument 2 is shorter than argument 1"
     ]
    }
   ],
   "source": [
    "def is_one(dice_agent: Agent, select_params: Params):\n",
    "    draw = jnp.reshape(dice_agent.state.content['draw'], (-1))\n",
    "    return draw == 1\n",
    "num_agents_dead, remove_indices = jit_select_agents(select_func = is_one, select_params = None, agents = Dice_set.agents)\n",
    "dice_remove_params_content = {'remove_ids': remove_indices}\n",
    "dice_remove_params = Params(content = dice_remove_params_content)\n",
    "Dice_set.agents, key = jit_remove_agents(remove_func = Dice.remove_agent, num_agents_remove = num_agents_dead, \n",
    "                                                remove_params = dice_remove_params, agents = Dice_set.agents, key = key)\n",
    "print(jnp.reshape(Dice_set.agents.state.content['draw'], (-1)))"
   ]
  },
  {
   "cell_type": "code",
   "execution_count": null,
   "metadata": {},
   "outputs": [],
   "source": [
    "# remove all agents who have drawn a 1\n",
    "# first, select all agents who have drawn a 1\n",
    "def is_one(dice_agent: Agent, select_params: Params):\n",
    "    draw = jnp.reshape(dice_agent.state.content['draw'], (-1))\n",
    "    return draw == 1\n",
    "num_agents_dead, remove_indices = jit_select_agents(select_func = is_one, select_params = None, agents = Dice_set.agents)\n",
    "dice_remove_params_content = {'remove_ids': remove_indices}\n",
    "dice_remove_params = Params(content = dice_remove_params_content)\n",
    "Dice_set.agents = jit_remove_agents(remove_func = Dice.remove_agent, num_agents_remove = num_agents_dead, \n",
    "                                                remove_params = dice_remove_params, agents = Dice_set.agents)\n",
    "print(jnp.reshape(Dice_set.agents.state.content['draw'], (-1)))\n",
    "\n",
    "# sort agents by active state, as new agents are ALWAYS added at the END of the set\n",
    "Dice_set.agents, sorted_indices = fgx_methods.jit_sort_agents(quantity = Dice_set.agents.active_state, ascend = False, agents = Dice_set.agents)\n",
    "print(jnp.reshape(Dice_set.agents.state.content['draw'], (-1)))\n",
    "print(Dice_set.agents.active_state)\n",
    "\n",
    "# add a new agent for every agent that has drawn a 6\n",
    "# first, select all agents who have drawn a 6\n",
    "def is_six(dice_agent: fgx_classes.Agent, select_params: fgx_classes.Params):\n",
    "    draw = jnp.reshape(dice_agent.state.content['draw'], (-1))\n",
    "    return draw == 6\n",
    "num_agents_add, add_indices = fgx_methods.jit_select_agents(select_func = is_six, select_params = None, agents = Dice_set.agents)\n",
    "\n",
    "# clip the number of agents to add to the number of inactive agents\n",
    "num_active_agents = jnp.sum(Dice_set.agents.active_state, dtype = jnp.int32)\n",
    "num_agents_add = jnp.minimum(num_agents_add, Dice_set.num_total_agents - num_active_agents)\n",
    "\n",
    "# add the agents\n",
    "Dice_set.agents, key = fgx_methods.jit_add_agents(add_func = Dice.add_agent, num_agents_add = num_agents_add, \n",
    "                                                  add_params = None, agents = Dice_set.agents, key = None)\n",
    "print(jnp.reshape(Dice_set.agents.state.content['draw'], (-1)))\n",
    "print(Dice_set.agents.active_state)"
   ]
  },
  {
   "cell_type": "code",
   "execution_count": null,
   "metadata": {},
   "outputs": [],
   "source": []
  },
  {
   "cell_type": "code",
   "execution_count": 32,
   "metadata": {},
   "outputs": [
    {
     "name": "stdout",
     "output_type": "stream",
     "text": [
      "266 ms ± 1.87 ms per loop (mean ± std. dev. of 7 runs, 1 loop each)\n"
     ]
    }
   ],
   "source": [
    "%%timeit\n",
    "agents = jit_step_agents(Dice.step_agent, step_params, input_signal, dice_agent_set.agents)\n"
   ]
  },
  {
   "cell_type": "code",
   "execution_count": 14,
   "metadata": {},
   "outputs": [
    {
     "name": "stdout",
     "output_type": "stream",
     "text": [
      "CPU times: user 193 ms, sys: 5.3 ms, total: 199 ms\n",
      "Wall time: 196 ms\n"
     ]
    }
   ],
   "source": [
    "%%time\n",
    "agents, key = jit_add_agents_1(add_func = Dice.add_agent, num_agents_add = num_agents_add, \n",
    "                                                  add_params = None, agents = dice_agent_set.agents, key = None)\n"
   ]
  },
  {
   "cell_type": "code",
   "execution_count": 20,
   "metadata": {},
   "outputs": [
    {
     "name": "stdout",
     "output_type": "stream",
     "text": [
      "CPU times: user 375 µs, sys: 75 µs, total: 450 µs\n",
      "Wall time: 434 µs\n"
     ]
    }
   ],
   "source": [
    "%%time\n",
    "agents, key = jit_add_agents_2(add_func = Dice.add_agent, num_agents_add = num_agents_add, \n",
    "                                                  add_params = None, agents = dice_agent_set.agents, key = None)\n"
   ]
  },
  {
   "cell_type": "code",
   "execution_count": null,
   "metadata": {},
   "outputs": [],
   "source": []
  },
  {
   "cell_type": "code",
   "execution_count": null,
   "metadata": {},
   "outputs": [],
   "source": [
    "Dice_set.agents = fgx_methods.create_agents(params = None, agent_set = Dice_set, key = jax.random.PRNGKey(0))\n",
    "print(jnp.reshape(Dice_set.agents.state.content['draw'], (-1)))\n",
    "\n",
    "Dice_set.agents = fgx_methods.step_agents(params = None, agent_set = Dice_set, input=None)\n",
    "print(jnp.reshape(Dice_set.agents.state.content['draw'], (-1)))\n",
    "\n",
    "# remove all agents who have drawn a 1\n",
    "# first, select all agents who have drawn a 1\n",
    "def is_one(dice_agent: fgx_classes.Agent, select_params: fgx_classes.Params):\n",
    "    draw = jnp.reshape(dice_agent.state.content['draw'], (-1))\n",
    "    return draw == 1\n",
    "num_agents_dead, remove_indices = fgx_methods.jit_select_agents(select_func = is_one, select_params = None, agents = Dice_set.agents)\n",
    "dice_remove_params_content = {'remove_ids': remove_indices}\n",
    "dice_remove_params = fgx_classes.Params(content = dice_remove_params_content)\n",
    "Dice_set.agents = fgx_methods.jit_remove_agents(remove_func = Dice.remove_agent, num_agents_remove = num_agents_dead, \n",
    "                                                remove_params = dice_remove_params, agents = Dice_set.agents)\n",
    "print(jnp.reshape(Dice_set.agents.state.content['draw'], (-1)))\n",
    "\n",
    "# sort agents by active state, as new agents are ALWAYS added at the END of the set\n",
    "Dice_set.agents, sorted_indices = fgx_methods.jit_sort_agents(quantity = Dice_set.agents.active_state, ascend = False, agents = Dice_set.agents)\n",
    "print(jnp.reshape(Dice_set.agents.state.content['draw'], (-1)))\n",
    "print(Dice_set.agents.active_state)\n",
    "\n",
    "# add a new agent for every agent that has drawn a 6\n",
    "# first, select all agents who have drawn a 6\n",
    "def is_six(dice_agent: fgx_classes.Agent, select_params: fgx_classes.Params):\n",
    "    draw = jnp.reshape(dice_agent.state.content['draw'], (-1))\n",
    "    return draw == 6\n",
    "num_agents_add, add_indices = fgx_methods.jit_select_agents(select_func = is_six, select_params = None, agents = Dice_set.agents)\n",
    "\n",
    "# clip the number of agents to add to the number of inactive agents\n",
    "num_active_agents = jnp.sum(Dice_set.agents.active_state, dtype = jnp.int32)\n",
    "num_agents_add = jnp.minimum(num_agents_add, Dice_set.num_total_agents - num_active_agents)\n",
    "\n",
    "# add the agents\n",
    "Dice_set.agents, key = fgx_methods.jit_add_agents(add_func = Dice.add_agent, num_agents_add = num_agents_add, \n",
    "                                                  add_params = None, agents = Dice_set.agents, key = None)\n",
    "print(jnp.reshape(Dice_set.agents.state.content['draw'], (-1)))\n",
    "print(Dice_set.agents.active_state)\n"
   ]
  },
  {
   "cell_type": "code",
   "execution_count": 11,
   "metadata": {},
   "outputs": [
    {
     "name": "stdout",
     "output_type": "stream",
     "text": [
      "Params(content={'agent_type': Array([1, 1, 1], dtype=int32), 'num_active_agents': Array([4, 5, 3], dtype=int32), 'num_total_agents': Array([10, 10, 10], dtype=int32)})\n",
      "[15 16 14]\n"
     ]
    }
   ],
   "source": [
    "agent_set_params_content = {'num_total_agents': 10, 'num_active_agents': 7, 'agent_type': 1}\n",
    "def create_ageent_set_params(num_total_agents, num_active_agents, agent_type):\n",
    "    return Params(content = {'num_total_agents': num_total_agents, 'num_active_agents': num_active_agents, 'agent_type': agent_type})\n",
    "\n",
    "num_total_agents = jnp.array([10, 10, 10])\n",
    "num_active_agents = jnp.array([4, 5, 3])\n",
    "agent_type = jnp.array([1, 1, 1])\n",
    "\n",
    "agent_set_params = jax.vmap(create_ageent_set_params, in_axes=(0, 0, 0))(num_total_agents, num_active_agents, agent_type)\n",
    "print(agent_set_params)\n",
    "\n",
    "def do_something(params):\n",
    "    num_total_agents = params.content['num_total_agents']\n",
    "    num_active_agents = params.content['num_active_agents']\n",
    "    agent_type = params.content['agent_type']\n",
    "    return num_total_agents + num_active_agents + agent_type\n",
    "vmapped_do_something = jax.vmap(do_something)\n",
    "\n",
    "print(vmapped_do_something(agent_set_params))\n"
   ]
  },
  {
   "cell_type": "code",
   "execution_count": 24,
   "metadata": {},
   "outputs": [
    {
     "ename": "TypeError",
     "evalue": "Cannot interpret value of type <class 'function'> as an abstract array; it does not have a dtype attribute",
     "output_type": "error",
     "traceback": [
      "\u001b[0;31m---------------------------------------------------------------------------\u001b[0m",
      "\u001b[0;31mKeyError\u001b[0m                                  Traceback (most recent call last)",
      "File \u001b[0;32m/Library/Frameworks/Python.framework/Versions/3.10/lib/python3.10/site-packages/jax/_src/api_util.py:563\u001b[0m, in \u001b[0;36mshaped_abstractify\u001b[0;34m(x)\u001b[0m\n\u001b[1;32m    562\u001b[0m \u001b[38;5;28;01mtry\u001b[39;00m:\n\u001b[0;32m--> 563\u001b[0m   \u001b[38;5;28;01mreturn\u001b[39;00m \u001b[43m_shaped_abstractify_handlers\u001b[49m\u001b[43m[\u001b[49m\u001b[38;5;28;43mtype\u001b[39;49m\u001b[43m(\u001b[49m\u001b[43mx\u001b[49m\u001b[43m)\u001b[49m\u001b[43m]\u001b[49m(x)\n\u001b[1;32m    564\u001b[0m \u001b[38;5;28;01mexcept\u001b[39;00m \u001b[38;5;167;01mKeyError\u001b[39;00m:\n",
      "\u001b[0;31mKeyError\u001b[0m: <class 'function'>",
      "\nDuring handling of the above exception, another exception occurred:\n",
      "\u001b[0;31mTypeError\u001b[0m                                 Traceback (most recent call last)",
      "Cell \u001b[0;32mIn[24], line 1\u001b[0m\n\u001b[0;32m----> 1\u001b[0m dice_agent_set \u001b[38;5;241m=\u001b[39m \u001b[43mjax\u001b[49m\u001b[38;5;241;43m.\u001b[39;49m\u001b[43mvmap\u001b[49m\u001b[43m(\u001b[49m\u001b[43mcreate_agents\u001b[49m\u001b[43m,\u001b[49m\u001b[43m \u001b[49m\u001b[43min_axes\u001b[49m\u001b[38;5;241;43m=\u001b[39;49m\u001b[43m(\u001b[49m\u001b[38;5;28;43;01mNone\u001b[39;49;00m\u001b[43m,\u001b[49m\u001b[43m \u001b[49m\u001b[38;5;28;43;01mNone\u001b[39;49;00m\u001b[43m,\u001b[49m\u001b[43m \u001b[49m\u001b[38;5;241;43m0\u001b[39;49m\u001b[43m,\u001b[49m\u001b[43m \u001b[49m\u001b[38;5;241;43m0\u001b[39;49m\u001b[43m)\u001b[49m\u001b[43m)\u001b[49m\u001b[43m(\u001b[49m\u001b[43mDice\u001b[49m\u001b[38;5;241;43m.\u001b[39;49m\u001b[43mcreate_agent\u001b[49m\u001b[43m,\u001b[49m\u001b[43m \u001b[49m\u001b[43magent_params\u001b[49m\u001b[43m,\u001b[49m\u001b[43m \u001b[49m\u001b[43magent_set_params\u001b[49m\u001b[43m,\u001b[49m\u001b[43m \u001b[49m\u001b[43msubkeys\u001b[49m\u001b[43m)\u001b[49m\n",
      "    \u001b[0;31m[... skipping hidden 5 frame]\u001b[0m\n",
      "File \u001b[0;32m/Library/Frameworks/Python.framework/Versions/3.10/lib/python3.10/site-packages/jax/_src/api_util.py:554\u001b[0m, in \u001b[0;36m_shaped_abstractify_slow\u001b[0;34m(x)\u001b[0m\n\u001b[1;32m    552\u001b[0m   dtype \u001b[38;5;241m=\u001b[39m dtypes\u001b[38;5;241m.\u001b[39mcanonicalize_dtype(x\u001b[38;5;241m.\u001b[39mdtype, allow_opaque_dtype\u001b[38;5;241m=\u001b[39m\u001b[38;5;28;01mTrue\u001b[39;00m)\n\u001b[1;32m    553\u001b[0m \u001b[38;5;28;01melse\u001b[39;00m:\n\u001b[0;32m--> 554\u001b[0m   \u001b[38;5;28;01mraise\u001b[39;00m \u001b[38;5;167;01mTypeError\u001b[39;00m(\n\u001b[1;32m    555\u001b[0m       \u001b[38;5;124mf\u001b[39m\u001b[38;5;124m\"\u001b[39m\u001b[38;5;124mCannot interpret value of type \u001b[39m\u001b[38;5;132;01m{\u001b[39;00m\u001b[38;5;28mtype\u001b[39m(x)\u001b[38;5;132;01m}\u001b[39;00m\u001b[38;5;124m as an abstract array; it \u001b[39m\u001b[38;5;124m\"\u001b[39m\n\u001b[1;32m    556\u001b[0m       \u001b[38;5;124m\"\u001b[39m\u001b[38;5;124mdoes not have a dtype attribute\u001b[39m\u001b[38;5;124m\"\u001b[39m)\n\u001b[1;32m    557\u001b[0m \u001b[38;5;28;01mreturn\u001b[39;00m core\u001b[38;5;241m.\u001b[39mShapedArray(np\u001b[38;5;241m.\u001b[39mshape(x), dtype, weak_type\u001b[38;5;241m=\u001b[39mweak_type,\n\u001b[1;32m    558\u001b[0m                         named_shape\u001b[38;5;241m=\u001b[39mnamed_shape)\n",
      "\u001b[0;31mTypeError\u001b[0m: Cannot interpret value of type <class 'function'> as an abstract array; it does not have a dtype attribute"
     ]
    }
   ],
   "source": [
    "dice_agent_set = jax.vmap(create_agents, in_axes=(None, None, 0, 0))(Dice.create_agent, agent_params, agent_set_params, subkeys)"
   ]
  },
  {
   "cell_type": "code",
   "execution_count": 9,
   "metadata": {},
   "outputs": [],
   "source": [
    "agent_set_params_content = {'num_total_agents': 10, 'num_active_agents': 7, 'agent_type': 1}\n",
    "agent_set_params = Params(content = agent_set_params_content)"
   ]
  },
  {
   "cell_type": "code",
   "execution_count": 11,
   "metadata": {},
   "outputs": [],
   "source": [
    "dice_agent_set = jax.vmap(create_agents, in_axes=(None, None, None, 0))(Dice.create_agent, agent_params, agent_set_params, subkeys)"
   ]
  },
  {
   "cell_type": "code",
   "execution_count": null,
   "metadata": {},
   "outputs": [],
   "source": [
    "agent_params = None\n",
    "\n",
    "\n",
    "dice_agent_set = create_agents(Dice.create_agent, agent_params, agent_set_params, key = jax.random.PRNGKey(0))"
   ]
  }
 ],
 "metadata": {
  "kernelspec": {
   "display_name": "Python 3",
   "language": "python",
   "name": "python3"
  },
  "language_info": {
   "codemirror_mode": {
    "name": "ipython",
    "version": 3
   },
   "file_extension": ".py",
   "mimetype": "text/x-python",
   "name": "python",
   "nbconvert_exporter": "python",
   "pygments_lexer": "ipython3",
   "version": "3.10.10"
  }
 },
 "nbformat": 4,
 "nbformat_minor": 2
}
