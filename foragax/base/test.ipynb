{
 "cells": [
  {
   "cell_type": "code",
   "execution_count": 1,
   "metadata": {},
   "outputs": [],
   "source": [
    "from agent_class_new import *\n",
    "from agent_methods_new import *\n",
    "import jax.numpy as jnp\n",
    "import jax"
   ]
  },
  {
   "cell_type": "code",
   "execution_count": 2,
   "metadata": {},
   "outputs": [],
   "source": [
    "@struct.dataclass\n",
    "class Dice(Agent):\n",
    "    @staticmethod\n",
    "    def create_agent(type, params, id, active_state, key):\n",
    "        key, subkey = jax.random.split(key)\n",
    "        \n",
    "        def create_active_agent(key):\n",
    "            draw = jax.random.randint(key, (1,), 1, 7)\n",
    "            state_content = {'draw': draw, 'value': 0}\n",
    "            return State(content=state_content)\n",
    "        \n",
    "        def create_inactive_agent():\n",
    "            state_content = {'draw': jnp.array([0]), 'value': 0}\n",
    "            return State(content=state_content)\n",
    "        agent_state = jax.lax.cond(active_state, lambda _: create_active_agent(subkey), lambda _: create_inactive_agent(), None)\n",
    "        \n",
    "        return Dice(params = params, id = id, agent_type = type, key = key,\n",
    "                    active_state = active_state, state = agent_state, policy = None, age = 0.0)\n",
    "    \n",
    "    @staticmethod\n",
    "    @jax.jit\n",
    "    def step_agent(params: Params, input: Signal, dice_agent: Agent):\n",
    "        \n",
    "        def step_active_agent(dice_agent):\n",
    "            \n",
    "            input_value = input.content['value']\n",
    "            input_value = input_value + dice_agent.state.content['value']\n",
    "            key, subkey = jax.random.split(dice_agent.key)\n",
    "\n",
    "            draw = jax.random.randint(subkey, (1,), 1, 7)\n",
    "            state_content = {'draw': draw, 'value': input_value}\n",
    "            new_state = State(content = state_content)\n",
    "            return dice_agent.replace(state = new_state, age = dice_agent.age + 1.0, key = key)\n",
    "        \n",
    "        def step_inactive_agent(dice_agent):\n",
    "            return dice_agent\n",
    "        \n",
    "        new_dice_agent = jax.lax.cond(dice_agent.active_state, lambda _: step_active_agent(dice_agent), lambda _: step_inactive_agent(dice_agent), None)\n",
    "        return new_dice_agent\n",
    "    \n",
    "    @staticmethod\n",
    "    def add_agent(params: Params, dice_agents: Agent, idx: jnp.int32):\n",
    "        value = params.content['num_agents_add'] + 1\n",
    "        inactive_agent = jax.tree_util.tree_map(lambda x:x[idx], dice_agents)\n",
    "        key, subkey = jax.random.split(inactive_agent.key)\n",
    "        draw = jax.random.randint(subkey, (1,), 1, 7)\n",
    "        state_content = {'draw': draw, 'value': value}\n",
    "        new_state = State(content = state_content)\n",
    "        active_agent = inactive_agent.replace(state = new_state, active_state = True, age = 0.0, key = key)\n",
    "        return active_agent\n",
    "    \n",
    "    @staticmethod\n",
    "    def remove_agent(params: Params, dice_agents: Agent, idx: jnp.int32):\n",
    "        dice_to_remove = jax.tree_util.tree_map(lambda x:x[idx], dice_agents)\n",
    "        draw = jnp.array([0])\n",
    "        state_content = {'draw': draw, 'value': 0}\n",
    "        new_state = State(content = state_content)\n",
    "        inactive_agent = dice_to_remove.replace(state = new_state, active_state = False)\n",
    "        return inactive_agent"
   ]
  },
  {
   "cell_type": "code",
   "execution_count": 3,
   "metadata": {},
   "outputs": [],
   "source": [
    "@struct.dataclass\n",
    "class Dice_Set(Agent_Set):\n",
    "    @staticmethod\n",
    "    def create_agent_set(num_agents, num_active_agents, agents, agent_set_params, id, key):\n",
    "        policy = None\n",
    "        key, subkey = jax.random.split(key, 2)\n",
    "        state_content = {'agent_set value': jax.random.uniform(subkey, minval = 0.0, maxval = 1.0, shape = (num_agents,))}\n",
    "        state = State(content = state_content)\n",
    "\n",
    "        return Dice_Set(num_agents = num_agents, agents = agents, params = agent_set_params, num_active_agents=num_active_agents, \n",
    "                        id = id, state = state, policy = policy, key = key)\n",
    "    @staticmethod\n",
    "    def step_agent_set(step_params, input, agent_set):\n",
    "        #agent_input = Signal(content = {'value': input.content['agent_input']})\n",
    "        #jax.debug.print(\"agent_input {x}\", x = agent_input.content['value'])\n",
    "        agent_input = Signal(content = {'value': input.content['agent_input']})\n",
    "        agent_step_params = None\n",
    "        \n",
    "        new_agents = jit_step_agents_2(agent_set.agents.step_agent, agent_step_params, agent_input, agent_set.agents)\n",
    "        return agent_set.replace(agents = new_agents)"
   ]
  },
  {
   "cell_type": "code",
   "execution_count": 4,
   "metadata": {},
   "outputs": [],
   "source": [
    "params = None\n",
    "num_agents = 10\n",
    "num_active_agents = 5\n",
    "agent_type = 1\n",
    "key = jax.random.PRNGKey(0)\n",
    "\n",
    "\n",
    "dice_agents = create_agents(Dice, params, num_agents, num_active_agents, agent_type, key)"
   ]
  },
  {
   "cell_type": "code",
   "execution_count": 5,
   "metadata": {},
   "outputs": [
    {
     "name": "stdout",
     "output_type": "stream",
     "text": [
      "[[6]\n",
      " [4]\n",
      " [6]\n",
      " [2]\n",
      " [4]\n",
      " [0]\n",
      " [0]\n",
      " [0]\n",
      " [0]\n",
      " [0]]\n",
      "[0 0 0 0 0 0 0 0 0 0]\n"
     ]
    }
   ],
   "source": [
    "step_params = None\n",
    "input = Signal(content = {'value': jnp.tile( 1, num_agents)})\n",
    "print(dice_agents.state.content['draw'])\n",
    "print(dice_agents.state.content['value'])"
   ]
  },
  {
   "cell_type": "code",
   "execution_count": 6,
   "metadata": {},
   "outputs": [
    {
     "name": "stdout",
     "output_type": "stream",
     "text": [
      "[[2]\n",
      " [1]\n",
      " [1]\n",
      " [2]\n",
      " [3]\n",
      " [0]\n",
      " [0]\n",
      " [0]\n",
      " [0]\n",
      " [0]]\n",
      "[1 1 1 1 1 0 0 0 0 0]\n"
     ]
    }
   ],
   "source": [
    "dice_agents = jit_step_agents(step_params, input, dice_agents)\n",
    "print(dice_agents.state.content['draw'])\n",
    "print(dice_agents.state.content['value'])"
   ]
  },
  {
   "cell_type": "code",
   "execution_count": 7,
   "metadata": {},
   "outputs": [
    {
     "name": "stdout",
     "output_type": "stream",
     "text": [
      "[[1]\n",
      " [4]\n",
      " [2]\n",
      " [2]\n",
      " [5]\n",
      " [0]\n",
      " [0]\n",
      " [0]\n",
      " [0]\n",
      " [0]]\n",
      "[2 2 2 2 2 0 0 0 0 0]\n"
     ]
    }
   ],
   "source": [
    "dice_agents = jit_step_agents_2(Dice.step_agent, step_params, input, dice_agents)\n",
    "print(dice_agents.state.content['draw'])\n",
    "print(dice_agents.state.content['value'])"
   ]
  },
  {
   "cell_type": "code",
   "execution_count": 8,
   "metadata": {},
   "outputs": [],
   "source": [
    "agent_set_params = None\n",
    "agent_params = None\n",
    "agent_type = 1\n",
    "num_agent_set = 10\n",
    "num_agents = 10\n",
    "num_active_agents = jnp.arange(1, 11)\n",
    "key = jax.random.PRNGKey(0)\n",
    "\n",
    "dice_agent_set = create_agent_sets(agent_set_params = agent_set_params, agent_params = agent_params,\n",
    "                                    agent_set = Dice_Set, agent = Dice, num_agent_set = num_agent_set, agent_type = agent_type,\n",
    "                                    num_agents = num_agents, num_active_agents = num_active_agents, key = key)"
   ]
  },
  {
   "cell_type": "code",
   "execution_count": 9,
   "metadata": {},
   "outputs": [
    {
     "name": "stdout",
     "output_type": "stream",
     "text": [
      "[[5 0 0 0 0 0 0 0 0 0]\n",
      " [1 5 0 0 0 0 0 0 0 0]\n",
      " [3 3 4 0 0 0 0 0 0 0]\n",
      " [1 2 5 2 0 0 0 0 0 0]\n",
      " [1 6 3 4 1 0 0 0 0 0]\n",
      " [3 5 2 6 6 3 0 0 0 0]\n",
      " [6 1 1 6 2 5 2 0 0 0]\n",
      " [4 2 1 5 4 1 5 2 0 0]\n",
      " [2 2 3 1 2 4 6 5 6 0]\n",
      " [3 4 5 1 6 5 4 2 6 5]]\n",
      "[ 1  2  3  4  5  6  7  8  9 10]\n",
      "[[1 0 0 0 0 0 0 0 0 0]\n",
      " [1 1 0 0 0 0 0 0 0 0]\n",
      " [1 1 1 0 0 0 0 0 0 0]\n",
      " [1 1 1 1 0 0 0 0 0 0]\n",
      " [1 1 1 1 1 0 0 0 0 0]\n",
      " [1 1 1 1 1 1 0 0 0 0]\n",
      " [1 1 1 1 1 1 1 0 0 0]\n",
      " [1 1 1 1 1 1 1 1 0 0]\n",
      " [1 1 1 1 1 1 1 1 1 0]\n",
      " [1 1 1 1 1 1 1 1 1 1]]\n"
     ]
    }
   ],
   "source": [
    "print(dice_agent_set.agents.state.content['draw'].reshape(num_agent_set, num_agents))\n",
    "print(dice_agent_set.num_active_agents)\n",
    "print(dice_agent_set.agents.active_state)"
   ]
  },
  {
   "cell_type": "code",
   "execution_count": 10,
   "metadata": {},
   "outputs": [
    {
     "name": "stdout",
     "output_type": "stream",
     "text": [
      "[[5 5 0 0 0 0 0 0 0 0]\n",
      " [1 5 6 0 0 0 0 0 0 0]\n",
      " [3 3 4 6 0 0 0 0 0 0]\n",
      " [1 2 5 2 4 0 0 0 0 0]\n",
      " [1 6 3 4 1 2 0 0 0 0]\n",
      " [3 5 2 6 6 3 4 0 0 0]\n",
      " [6 1 1 6 2 5 2 5 0 0]\n",
      " [4 2 1 5 4 1 5 2 6 0]\n",
      " [2 2 3 1 2 4 6 5 6 6]\n",
      " [3 4 5 1 6 5 4 2 6 5]]\n"
     ]
    }
   ],
   "source": [
    "num_agents_add = jnp.tile(1, num_agent_set)\n",
    "add_params = Params(content= {'num_agents_add': jnp.tile(1, num_agent_set)})\n",
    "dice_agent_set = jit_add_agents(Dice.add_agent, num_agents_add, add_params, dice_agent_set)\n",
    "print(dice_agent_set.agents.state.content['draw'].reshape(num_agent_set, num_agents))\n",
    "#print(dice_agent_set.agents.active_state)\n",
    "#print(dice_agent_set.num_active_agents)\n",
    "#print(dice_agent_set.agents.state.content['value'].reshape(num_agent_set, num_agents))"
   ]
  },
  {
   "cell_type": "code",
   "execution_count": 11,
   "metadata": {},
   "outputs": [
    {
     "name": "stdout",
     "output_type": "stream",
     "text": [
      "[2 1 2 2 2 2 2 2 1 3]\n",
      "[[0 1 2 3 4 5 6 7 8 9]\n",
      " [2 0 1 3 4 5 6 7 8 9]\n",
      " [0 1 2 3 4 5 6 7 8 9]\n",
      " [1 3 0 2 4 5 6 7 8 9]\n",
      " [0 4 1 2 3 5 6 7 8 9]\n",
      " [3 4 0 1 2 5 6 7 8 9]\n",
      " [4 6 0 1 2 3 5 7 8 9]\n",
      " [0 4 1 2 3 5 6 7 8 9]\n",
      " [2 0 1 3 4 5 6 7 8 9]\n",
      " [2 5 9 0 1 3 4 6 7 8]]\n"
     ]
    }
   ],
   "source": [
    "def select_draw(agents:Dice, params:Params):\n",
    "    draws = agents.state.content['draw'].reshape(-1)\n",
    "    select_draw = params.content['select_draw']\n",
    "    return draws == select_draw\n",
    "select_params = Params(content = {'select_draw': jnp.array([5,6,3,2,1,6,2,4,3,5])})\n",
    "\n",
    "selected_len, slected_ids = jit_select_agents(select_draw, select_params, dice_agent_set.agents)\n",
    "print(selected_len)\n",
    "print(slected_ids)"
   ]
  },
  {
   "cell_type": "code",
   "execution_count": 12,
   "metadata": {},
   "outputs": [
    {
     "name": "stdout",
     "output_type": "stream",
     "text": [
      "[0 2 2 3 4 5 6 7 9 7]\n",
      "[[0 0 0 0 0 0 0 0 0 0]\n",
      " [1 1 0 0 0 0 0 0 0 0]\n",
      " [1 1 0 0 0 0 0 0 0 0]\n",
      " [1 1 1 0 0 0 0 0 0 0]\n",
      " [1 1 1 1 0 0 0 0 0 0]\n",
      " [1 1 1 1 1 0 0 0 0 0]\n",
      " [1 1 1 1 1 1 0 0 0 0]\n",
      " [1 1 1 1 1 1 1 0 0 0]\n",
      " [1 1 1 1 1 1 1 1 1 0]\n",
      " [1 1 1 1 1 1 1 0 0 0]]\n"
     ]
    }
   ],
   "source": [
    "num_agents_remove = jnp.tile(1, num_agent_set)\n",
    "remove_ids = jnp.array([[0 , 1, 2, 3, 4, 5, 6, 7, 8, 9],\n",
    "                        [9, 8, 7, 6, 5, 4, 3, 2, 1, 0],\n",
    "                        [0, 1, 2, 3, 4, 5, 6, 7, 8, 9],\n",
    "                        [9, 8, 7, 6, 5, 4, 3, 2, 1, 0],\n",
    "                        [0, 1, 2, 3, 4, 5, 6, 7, 8, 9],\n",
    "                        [9, 8, 7, 6, 5, 4, 3, 2, 1, 0],\n",
    "                        [0, 1, 2, 3, 4, 5, 6, 7, 8, 9],\n",
    "                        [9, 8, 7, 6, 5, 4, 3, 2, 1, 0],\n",
    "                        [0, 1, 2, 3, 4, 5, 6, 7, 8, 9],\n",
    "                        [9, 8, 7, 6, 5, 4, 3, 2, 1, 0]])\n",
    "\n",
    "remove_ids = slected_ids\n",
    "\n",
    "#num_agents_remove = jnp.array([2, 5, 3, 4, 2, 5, 3, 4, 2, 5])\n",
    "num_agents_remove = selected_len\n",
    "\n",
    "remove_params = Params(content= {'remove_ids': remove_ids})\n",
    "\n",
    "dice_agent_set = jit_remove_agents(Dice.remove_agent, num_agents_remove, remove_params, dice_agent_set)\n",
    "print(dice_agent_set.num_active_agents)\n",
    "print(dice_agent_set.agents.active_state)"
   ]
  },
  {
   "cell_type": "code",
   "execution_count": 13,
   "metadata": {},
   "outputs": [
    {
     "name": "stdout",
     "output_type": "stream",
     "text": [
      "[[0 0 0 0 0 0 0 0 0 0]\n",
      " [1 5 0 0 0 0 0 0 0 0]\n",
      " [4 6 0 0 0 0 0 0 0 0]\n",
      " [1 5 4 0 0 0 0 0 0 0]\n",
      " [6 3 4 2 0 0 0 0 0 0]\n",
      " [3 5 2 3 4 0 0 0 0 0]\n",
      " [6 1 1 6 5 5 0 0 0 0]\n",
      " [2 1 5 1 5 2 6 0 0 0]\n",
      " [2 2 1 2 4 6 5 6 6 0]\n",
      " [3 4 1 6 4 2 6 0 0 0]]\n"
     ]
    }
   ],
   "source": [
    "print(dice_agent_set.agents.state.content['draw'].reshape(num_agent_set, num_agents))"
   ]
  },
  {
   "cell_type": "code",
   "execution_count": 68,
   "metadata": {},
   "outputs": [
    {
     "name": "stdout",
     "output_type": "stream",
     "text": [
      "[[2 4 4 4 4 4 4 4 4 4]\n",
      " [2 2 4 4 4 4 4 4 4 4]\n",
      " [2 2 2 4 4 4 4 4 4 4]\n",
      " [2 2 2 2 4 4 4 4 4 4]\n",
      " [2 2 2 2 2 4 4 4 4 4]\n",
      " [2 2 2 2 2 2 4 4 4 4]\n",
      " [2 2 2 2 2 2 2 4 4 4]\n",
      " [2 2 2 2 2 2 2 2 4 4]\n",
      " [2 2 2 2 2 2 2 2 2 4]\n",
      " [2 2 2 2 2 2 2 2 2 2]]\n",
      "[[[1]\n",
      "  [3]\n",
      "  [3]\n",
      "  [6]\n",
      "  [6]\n",
      "  [2]\n",
      "  [4]\n",
      "  [6]\n",
      "  [3]\n",
      "  [3]]\n",
      "\n",
      " [[4]\n",
      "  [5]\n",
      "  [4]\n",
      "  [1]\n",
      "  [4]\n",
      "  [6]\n",
      "  [1]\n",
      "  [3]\n",
      "  [2]\n",
      "  [1]]\n",
      "\n",
      " [[4]\n",
      "  [2]\n",
      "  [5]\n",
      "  [4]\n",
      "  [5]\n",
      "  [3]\n",
      "  [4]\n",
      "  [2]\n",
      "  [6]\n",
      "  [3]]\n",
      "\n",
      " [[2]\n",
      "  [5]\n",
      "  [2]\n",
      "  [2]\n",
      "  [1]\n",
      "  [4]\n",
      "  [2]\n",
      "  [2]\n",
      "  [5]\n",
      "  [5]]\n",
      "\n",
      " [[4]\n",
      "  [3]\n",
      "  [4]\n",
      "  [3]\n",
      "  [6]\n",
      "  [6]\n",
      "  [4]\n",
      "  [5]\n",
      "  [5]\n",
      "  [6]]\n",
      "\n",
      " [[1]\n",
      "  [5]\n",
      "  [2]\n",
      "  [2]\n",
      "  [2]\n",
      "  [6]\n",
      "  [3]\n",
      "  [5]\n",
      "  [2]\n",
      "  [6]]\n",
      "\n",
      " [[2]\n",
      "  [1]\n",
      "  [5]\n",
      "  [1]\n",
      "  [4]\n",
      "  [1]\n",
      "  [5]\n",
      "  [6]\n",
      "  [5]\n",
      "  [3]]\n",
      "\n",
      " [[2]\n",
      "  [4]\n",
      "  [3]\n",
      "  [6]\n",
      "  [1]\n",
      "  [6]\n",
      "  [6]\n",
      "  [6]\n",
      "  [4]\n",
      "  [1]]\n",
      "\n",
      " [[5]\n",
      "  [5]\n",
      "  [4]\n",
      "  [1]\n",
      "  [1]\n",
      "  [4]\n",
      "  [5]\n",
      "  [4]\n",
      "  [3]\n",
      "  [2]]\n",
      "\n",
      " [[3]\n",
      "  [6]\n",
      "  [4]\n",
      "  [1]\n",
      "  [2]\n",
      "  [1]\n",
      "  [5]\n",
      "  [1]\n",
      "  [6]\n",
      "  [5]]]\n"
     ]
    }
   ],
   "source": [
    "agent_set_input = None\n",
    "agent_input = jnp.tile(1,(num_agent_set, num_agents))\n",
    "input = Signal(content = {'agent_set_input': agent_set_input, 'agent_input': agent_input})\n",
    "\n",
    "step_params = None\n",
    "\n",
    "\n",
    "dice_agent_set = jit_step_agent_sets(step_params, input, dice_agent_set)\n",
    "print(dice_agent_set.agents.state.content['value'])\n",
    "print(dice_agent_set.agents.state.content['draw'])"
   ]
  },
  {
   "cell_type": "code",
   "execution_count": 169,
   "metadata": {},
   "outputs": [],
   "source": [
    "\n",
    "agent_set = jit_step_agent_sets_2(Dice_Set.step_agent_set, step_params, input, dice_agent_set)"
   ]
  },
  {
   "cell_type": "code",
   "execution_count": 175,
   "metadata": {},
   "outputs": [
    {
     "name": "stdout",
     "output_type": "stream",
     "text": [
      "[[7 0 0 0 0 0 0 0 0 0]\n",
      " [7 7 0 0 0 0 0 0 0 0]\n",
      " [7 7 7 0 0 0 0 0 0 0]\n",
      " [7 7 7 7 0 0 0 0 0 0]\n",
      " [7 7 7 7 7 0 0 0 0 0]\n",
      " [7 7 7 7 7 7 0 0 0 0]\n",
      " [7 7 7 7 7 7 7 0 0 0]\n",
      " [7 7 7 7 7 7 7 7 0 0]\n",
      " [7 7 7 7 7 7 7 7 7 0]\n",
      " [7 7 7 7 7 7 7 7 7 7]]\n"
     ]
    }
   ],
   "source": [
    "agent_set = jit_step_agent_sets_2(Dice_Set.step_agent_set, step_params, input, agent_set)\n",
    "print(agent_set.agents.state.content['value'])"
   ]
  },
  {
   "cell_type": "code",
   "execution_count": 167,
   "metadata": {},
   "outputs": [
    {
     "name": "stdout",
     "output_type": "stream",
     "text": [
      "47 µs ± 82 ns per loop (mean ± std. dev. of 7 runs, 10,000 loops each)\n"
     ]
    }
   ],
   "source": [
    "%%timeit\n",
    "agent_set = jit_step_agent_sets(step_params, input, dice_agent_set)"
   ]
  },
  {
   "cell_type": "code",
   "execution_count": 13,
   "metadata": {},
   "outputs": [
    {
     "name": "stdout",
     "output_type": "stream",
     "text": [
      "[ 0  2  4  6  8 10 12 14 16 18]\n"
     ]
    },
    {
     "ename": "ValueError",
     "evalue": "vmap was requested to map its argument along axis 0, which implies that its rank should be at least 1, but is only 0 (its shape is ())",
     "output_type": "error",
     "traceback": [
      "\u001b[0;31m---------------------------------------------------------------------------\u001b[0m",
      "\u001b[0;31mIndexError\u001b[0m                                Traceback (most recent call last)",
      "File \u001b[0;32m/Library/Frameworks/Python.framework/Versions/3.10/lib/python3.10/site-packages/jax/_src/api.py:1260\u001b[0m, in \u001b[0;36m_mapped_axis_size.<locals>._get_axis_size\u001b[0;34m(name, shape, axis)\u001b[0m\n\u001b[1;32m   1259\u001b[0m \u001b[38;5;28;01mtry\u001b[39;00m:\n\u001b[0;32m-> 1260\u001b[0m   \u001b[38;5;28;01mreturn\u001b[39;00m \u001b[43mshape\u001b[49m\u001b[43m[\u001b[49m\u001b[43maxis\u001b[49m\u001b[43m]\u001b[49m\n\u001b[1;32m   1261\u001b[0m \u001b[38;5;28;01mexcept\u001b[39;00m (\u001b[38;5;167;01mIndexError\u001b[39;00m, \u001b[38;5;167;01mTypeError\u001b[39;00m) \u001b[38;5;28;01mas\u001b[39;00m e:\n",
      "\u001b[0;31mIndexError\u001b[0m: tuple index out of range",
      "\nThe above exception was the direct cause of the following exception:\n",
      "\u001b[0;31mValueError\u001b[0m                                Traceback (most recent call last)",
      "Cell \u001b[0;32mIn[13], line 9\u001b[0m\n\u001b[1;32m      7\u001b[0m c \u001b[38;5;241m=\u001b[39m \u001b[38;5;241m1.0\u001b[39m\n\u001b[1;32m      8\u001b[0m d \u001b[38;5;241m=\u001b[39m \u001b[38;5;241m2.0\u001b[39m\n\u001b[0;32m----> 9\u001b[0m \u001b[38;5;28mprint\u001b[39m(\u001b[43mvmap_add\u001b[49m\u001b[43m(\u001b[49m\u001b[43mc\u001b[49m\u001b[43m,\u001b[49m\u001b[43md\u001b[49m\u001b[43m)\u001b[49m)\n",
      "    \u001b[0;31m[... skipping hidden 6 frame]\u001b[0m\n",
      "File \u001b[0;32m/Library/Frameworks/Python.framework/Versions/3.10/lib/python3.10/site-packages/jax/_src/api.py:1264\u001b[0m, in \u001b[0;36m_mapped_axis_size.<locals>._get_axis_size\u001b[0;34m(name, shape, axis)\u001b[0m\n\u001b[1;32m   1262\u001b[0m min_rank \u001b[38;5;241m=\u001b[39m axis \u001b[38;5;241m+\u001b[39m \u001b[38;5;241m1\u001b[39m \u001b[38;5;28;01mif\u001b[39;00m axis \u001b[38;5;241m>\u001b[39m\u001b[38;5;241m=\u001b[39m \u001b[38;5;241m0\u001b[39m \u001b[38;5;28;01melse\u001b[39;00m \u001b[38;5;241m-\u001b[39maxis\n\u001b[1;32m   1263\u001b[0m \u001b[38;5;66;03m# TODO(mattjj): better error message here\u001b[39;00m\n\u001b[0;32m-> 1264\u001b[0m \u001b[38;5;28;01mraise\u001b[39;00m \u001b[38;5;167;01mValueError\u001b[39;00m(\n\u001b[1;32m   1265\u001b[0m     \u001b[38;5;124mf\u001b[39m\u001b[38;5;124m\"\u001b[39m\u001b[38;5;132;01m{\u001b[39;00mname\u001b[38;5;132;01m}\u001b[39;00m\u001b[38;5;124m was requested to map its argument along axis \u001b[39m\u001b[38;5;132;01m{\u001b[39;00maxis\u001b[38;5;132;01m}\u001b[39;00m\u001b[38;5;124m, \u001b[39m\u001b[38;5;124m\"\u001b[39m\n\u001b[1;32m   1266\u001b[0m     \u001b[38;5;124mf\u001b[39m\u001b[38;5;124m\"\u001b[39m\u001b[38;5;124mwhich implies that its rank should be at least \u001b[39m\u001b[38;5;132;01m{\u001b[39;00mmin_rank\u001b[38;5;132;01m}\u001b[39;00m\u001b[38;5;124m, \u001b[39m\u001b[38;5;124m\"\u001b[39m\n\u001b[1;32m   1267\u001b[0m     \u001b[38;5;124mf\u001b[39m\u001b[38;5;124m\"\u001b[39m\u001b[38;5;124mbut is only \u001b[39m\u001b[38;5;132;01m{\u001b[39;00m\u001b[38;5;28mlen\u001b[39m(shape)\u001b[38;5;132;01m}\u001b[39;00m\u001b[38;5;124m (its shape is \u001b[39m\u001b[38;5;132;01m{\u001b[39;00mshape\u001b[38;5;132;01m}\u001b[39;00m\u001b[38;5;124m)\u001b[39m\u001b[38;5;124m\"\u001b[39m) \u001b[38;5;28;01mfrom\u001b[39;00m \u001b[38;5;21;01me\u001b[39;00m\n",
      "\u001b[0;31mValueError\u001b[0m: vmap was requested to map its argument along axis 0, which implies that its rank should be at least 1, but is only 0 (its shape is ())"
     ]
    }
   ],
   "source": [
    "def add(x, y):\n",
    "    return x+y\n",
    "vmap_add = jax.vmap(add)\n",
    "a = jnp.arange(10)\n",
    "b = jnp.arange(10)\n",
    "print(vmap_add(a,b))\n",
    "c = 1.0\n",
    "d = 2.0\n",
    "print(vmap_add(c,d))\n",
    "\n"
   ]
  }
 ],
 "metadata": {
  "kernelspec": {
   "display_name": "Python 3",
   "language": "python",
   "name": "python3"
  },
  "language_info": {
   "codemirror_mode": {
    "name": "ipython",
    "version": 3
   },
   "file_extension": ".py",
   "mimetype": "text/x-python",
   "name": "python",
   "nbconvert_exporter": "python",
   "pygments_lexer": "ipython3",
   "version": "3.10.10"
  }
 },
 "nbformat": 4,
 "nbformat_minor": 2
}
